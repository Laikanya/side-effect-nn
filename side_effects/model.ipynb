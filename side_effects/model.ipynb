{
 "cells": [
  {
   "cell_type": "code",
   "execution_count": 14,
   "id": "a1231d5c",
   "metadata": {
    "pycharm": {
     "name": "#%%\n"
    }
   },
   "outputs": [],
   "source": [
    "import tensorflow as tf\n",
    "import numpy as np\n",
    "from random import randint\n",
    "from sklearn.utils import shuffle\n",
    "from sklearn.preprocessing import MinMaxScaler\n",
    "from tensorflow import keras\n",
    "from tensorflow.keras.models import Sequential\n",
    "from tensorflow.keras.layers import Activation, Dense\n",
    "from tensorflow.keras.optimizers import Adam\n",
    "from tensorflow.keras.metrics import categorical_crossentropy"
   ]
  },
  {
   "cell_type": "code",
   "execution_count": 15,
   "id": "3afdb15e",
   "metadata": {},
   "outputs": [],
   "source": [
    "train_labels = []\n",
    "train_samples = []"
   ]
  },
  {
   "cell_type": "code",
   "execution_count": 16,
   "id": "94569e0e",
   "metadata": {},
   "outputs": [],
   "source": [
    "for i in range(50):\n",
    "    random_younger = randint(13,64)\n",
    "    train_samples.append(random_younger)\n",
    "    train_labels.append(1)\n",
    "    \n",
    "    random_elder = randint(65,100)\n",
    "    train_samples.append(random_elder)\n",
    "    train_labels.append(0)\n",
    "    \n",
    "for i in range(1000):\n",
    "    random_younger = randint(13,64)\n",
    "    train_samples.append(random_younger)\n",
    "    train_labels.append(0)\n",
    "    \n",
    "    random_elder = randint(65,100)\n",
    "    train_samples.append(random_elder)\n",
    "    train_labels.append(1)"
   ]
  },
  {
   "cell_type": "code",
   "execution_count": 17,
   "id": "134102e7",
   "metadata": {},
   "outputs": [],
   "source": [
    "train_labels = np.array(train_labels)\n",
    "train_samples = np.array(train_samples)"
   ]
  },
  {
   "cell_type": "code",
   "execution_count": 18,
   "id": "5254e6b2",
   "metadata": {},
   "outputs": [],
   "source": [
    "train_labels, train_samples = shuffle(train_labels, train_samples)"
   ]
  },
  {
   "cell_type": "code",
   "execution_count": 19,
   "id": "f325b295",
   "metadata": {},
   "outputs": [],
   "source": [
    "scaler = MinMaxScaler(feature_range = (0,1))\n",
    "scaled_train_samples = scaler.fit_transform(train_samples.reshape(-1,1))"
   ]
  },
  {
   "cell_type": "code",
   "execution_count": 20,
   "id": "e473ad58",
   "metadata": {
    "pycharm": {
     "name": "#%%\n"
    }
   },
   "outputs": [
    {
     "name": "stdout",
     "output_type": "stream",
     "text": [
      "Num GPU's Available 1\n"
     ]
    }
   ],
   "source": [
    "physical_devices = tf.config.experimental.list_physical_devices('GPU')\n",
    "print(\"Num GPU's Available\", len(physical_devices))\n",
    "tf.config.experimental.set_memory_growth(physical_devices[0], True)"
   ]
  },
  {
   "cell_type": "code",
   "execution_count": 21,
   "id": "d0d8e9b1",
   "metadata": {
    "pycharm": {
     "name": "#%%\n"
    }
   },
   "outputs": [],
   "source": [
    "model = Sequential([\n",
    "    Dense(units=16, input_shape=(1,), activation='relu'),\n",
    "    Dense(units=32, activation='relu'),\n",
    "    Dense(units=2, activation='softmax')\n",
    "])"
   ]
  },
  {
   "cell_type": "code",
   "execution_count": 22,
   "id": "7334b6a3",
   "metadata": {
    "pycharm": {
     "name": "#%%\n"
    }
   },
   "outputs": [
    {
     "name": "stdout",
     "output_type": "stream",
     "text": [
      "Model: \"sequential_2\"\n",
      "_________________________________________________________________\n",
      "Layer (type)                 Output Shape              Param #   \n",
      "=================================================================\n",
      "dense_6 (Dense)              (None, 16)                32        \n",
      "_________________________________________________________________\n",
      "dense_7 (Dense)              (None, 32)                544       \n",
      "_________________________________________________________________\n",
      "dense_8 (Dense)              (None, 2)                 66        \n",
      "=================================================================\n",
      "Total params: 642\n",
      "Trainable params: 642\n",
      "Non-trainable params: 0\n",
      "_________________________________________________________________\n"
     ]
    }
   ],
   "source": [
    "model.summary()"
   ]
  },
  {
   "cell_type": "code",
   "execution_count": 23,
   "id": "5b3aa72f",
   "metadata": {
    "pycharm": {
     "name": "#%%\n"
    }
   },
   "outputs": [],
   "source": [
    "model.compile(optimizer=Adam(learning_rate=0.0001), loss=\"sparse_categorical_crossentropy\", metrics=['accuracy'])"
   ]
  },
  {
   "cell_type": "code",
   "execution_count": 24,
   "id": "3bf85aad",
   "metadata": {
    "pycharm": {
     "name": "#%%\n"
    }
   },
   "outputs": [
    {
     "name": "stdout",
     "output_type": "stream",
     "text": [
      "Epoch 1/30\n",
      "210/210 - 3s - loss: 0.7336 - accuracy: 0.4638\n",
      "Epoch 2/30\n",
      "210/210 - 1s - loss: 0.6900 - accuracy: 0.6310\n",
      "Epoch 3/30\n",
      "210/210 - 1s - loss: 0.6538 - accuracy: 0.6757\n",
      "Epoch 4/30\n",
      "210/210 - 1s - loss: 0.6174 - accuracy: 0.7162\n",
      "Epoch 5/30\n",
      "210/210 - 1s - loss: 0.5814 - accuracy: 0.7557\n",
      "Epoch 6/30\n",
      "210/210 - 1s - loss: 0.5460 - accuracy: 0.7924\n",
      "Epoch 7/30\n",
      "210/210 - 1s - loss: 0.5129 - accuracy: 0.8162\n",
      "Epoch 8/30\n",
      "210/210 - 1s - loss: 0.4811 - accuracy: 0.8348\n",
      "Epoch 9/30\n",
      "210/210 - 1s - loss: 0.4514 - accuracy: 0.8567\n",
      "Epoch 10/30\n",
      "210/210 - 1s - loss: 0.4243 - accuracy: 0.8605\n",
      "Epoch 11/30\n",
      "210/210 - 1s - loss: 0.3996 - accuracy: 0.8767\n",
      "Epoch 12/30\n",
      "210/210 - 1s - loss: 0.3776 - accuracy: 0.8943\n",
      "Epoch 13/30\n",
      "210/210 - 1s - loss: 0.3582 - accuracy: 0.8952\n",
      "Epoch 14/30\n",
      "210/210 - 1s - loss: 0.3416 - accuracy: 0.9067\n",
      "Epoch 15/30\n",
      "210/210 - 1s - loss: 0.3275 - accuracy: 0.9114\n",
      "Epoch 16/30\n",
      "210/210 - 1s - loss: 0.3154 - accuracy: 0.9229\n",
      "Epoch 17/30\n",
      "210/210 - 1s - loss: 0.3052 - accuracy: 0.9233\n",
      "Epoch 18/30\n",
      "210/210 - 1s - loss: 0.2966 - accuracy: 0.9300\n",
      "Epoch 19/30\n",
      "210/210 - 1s - loss: 0.2897 - accuracy: 0.9271\n",
      "Epoch 20/30\n",
      "210/210 - 1s - loss: 0.2837 - accuracy: 0.9305\n",
      "Epoch 21/30\n",
      "210/210 - 1s - loss: 0.2788 - accuracy: 0.9357\n",
      "Epoch 22/30\n",
      "210/210 - 1s - loss: 0.2746 - accuracy: 0.9338\n",
      "Epoch 23/30\n",
      "210/210 - 1s - loss: 0.2708 - accuracy: 0.9352\n",
      "Epoch 24/30\n",
      "210/210 - 1s - loss: 0.2679 - accuracy: 0.9376\n",
      "Epoch 25/30\n",
      "210/210 - 1s - loss: 0.2654 - accuracy: 0.9371\n",
      "Epoch 26/30\n",
      "210/210 - 1s - loss: 0.2633 - accuracy: 0.9386\n",
      "Epoch 27/30\n",
      "210/210 - 1s - loss: 0.2615 - accuracy: 0.9414\n",
      "Epoch 28/30\n",
      "210/210 - 1s - loss: 0.2600 - accuracy: 0.9405\n",
      "Epoch 29/30\n",
      "210/210 - 1s - loss: 0.2590 - accuracy: 0.9410\n",
      "Epoch 30/30\n",
      "210/210 - 1s - loss: 0.2577 - accuracy: 0.9438\n"
     ]
    },
    {
     "data": {
      "text/plain": [
       "<tensorflow.python.keras.callbacks.History at 0x20732166fa0>"
      ]
     },
     "execution_count": 24,
     "metadata": {},
     "output_type": "execute_result"
    }
   ],
   "source": [
    "model.fit(x=scaled_train_samples, y=train_labels, batch_size=10, epochs=30, shuffle=True, verbose=2)"
   ]
  },
  {
   "cell_type": "code",
   "execution_count": null,
   "id": "efd59aa3",
   "metadata": {},
   "outputs": [],
   "source": [
    "    "
   ]
  }
 ],
 "metadata": {
  "kernelspec": {
   "display_name": "Python 3 (ipykernel)",
   "language": "python",
   "name": "python3"
  },
  "language_info": {
   "codemirror_mode": {
    "name": "ipython",
    "version": 3
   },
   "file_extension": ".py",
   "mimetype": "text/x-python",
   "name": "python",
   "nbconvert_exporter": "python",
   "pygments_lexer": "ipython3",
   "version": "3.9.12"
  }
 },
 "nbformat": 4,
 "nbformat_minor": 5
}
